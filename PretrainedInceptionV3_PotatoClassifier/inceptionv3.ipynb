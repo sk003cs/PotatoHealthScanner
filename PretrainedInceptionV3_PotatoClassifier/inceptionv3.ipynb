{
 "cells": [
  {
   "cell_type": "code",
   "execution_count": 2,
   "metadata": {},
   "outputs": [
    {
     "name": "stdout",
     "output_type": "stream",
     "text": [
      "Found 900 images belonging to 3 classes.\n",
      "Found 300 images belonging to 3 classes.\n",
      "Found 300 images belonging to 3 classes.\n"
     ]
    },
    {
     "data": {
      "text/plain": [
       "{'Potato___Early_blight': 0, 'Potato___Late_blight': 1, 'Potato___healthy': 2}"
      ]
     },
     "execution_count": 2,
     "metadata": {},
     "output_type": "execute_result"
    }
   ],
   "source": [
    "import tensorflow as tf\n",
    "from tensorflow.keras.applications.inception_v3 import InceptionV3\n",
    "from tensorflow.keras.preprocessing.image import ImageDataGenerator\n",
    "from tensorflow.keras.layers import Dense, GlobalAveragePooling2D\n",
    "from tensorflow.keras.models import Model\n",
    "\n",
    "# Initialize batch size, image size and input shape\n",
    "batch_size = 32\n",
    "image_size = (299, 299) # Define the size of images\n",
    "input_shape = image_size + (3,) # Add channel dimension to image size for RGB\n",
    "keras = tf.keras \n",
    "\n",
    "# Image data generator for data augmentation\n",
    "img_data_gen = ImageDataGenerator(\n",
    "    rescale=1./255, # Rescale pixel values from 0-255 to 0-1\n",
    "    rotation_range=40,\n",
    "    width_shift_range=0.2,\n",
    "    height_shift_range=0.2,\n",
    "    shear_range=0.2,\n",
    "    zoom_range=0.2,\n",
    "    horizontal_flip=True,\n",
    "    fill_mode='nearest'\n",
    ")\n",
    "\n",
    "# Creating training dataset\n",
    "train_ds = img_data_gen.flow_from_directory(\n",
    "    '../PotatoImagesData/Train',\n",
    "    target_size=image_size,\n",
    "    batch_size=batch_size,\n",
    "    class_mode='categorical',\n",
    "    shuffle=True,\n",
    "    seed=123\n",
    ")\n",
    "classes = list(train_ds.class_indices.keys())\n",
    "\n",
    "# Creating validation dataset\n",
    "val_ds = img_data_gen.flow_from_directory(\n",
    "    '../PotatoImagesData/Valid',\n",
    "    target_size=image_size,\n",
    "    batch_size=batch_size,\n",
    "    class_mode='categorical',\n",
    "    shuffle=True,\n",
    "    seed=123\n",
    ")\n",
    "\n",
    "# Creating test dataset\n",
    "test_ds = img_data_gen.flow_from_directory(\n",
    "    '../PotatoImagesData/Test',\n",
    "    target_size=image_size,\n",
    "    batch_size=batch_size,\n",
    "    class_mode='categorical',\n",
    "    shuffle=True,\n",
    "    seed=123\n",
    ")\n",
    "train_ds.class_indices"
   ]
  },
  {
   "cell_type": "code",
   "execution_count": 2,
   "metadata": {},
   "outputs": [],
   "source": [
    "# Initialize the base model (InceptionV3)\n",
    "base_model = InceptionV3(\n",
    "    weights=\"imagenet\",\n",
    "    include_top=False,\n",
    "    input_shape=input_shape\n",
    ")\n",
    "\n",
    "# Freeze the layers of the base model\n",
    "base_model.trainable = False"
   ]
  },
  {
   "cell_type": "code",
   "execution_count": 3,
   "metadata": {},
   "outputs": [],
   "source": [
    "# Add custom layers on top of the base model\n",
    "x = base_model.output\n",
    "x = GlobalAveragePooling2D()(x) # Add a global average pooling layer\n",
    "x = Dense(1024, activation='relu')(x)  # New FC layer, you can adjust the number of neurons\n",
    "predictions = Dense(train_ds.num_classes, activation='softmax')(x)  # Final softmax layer for classification\n",
    "\n",
    "# Define the new model\n",
    "model = Model(inputs=base_model.input, outputs=predictions)"
   ]
  },
  {
   "cell_type": "code",
   "execution_count": 4,
   "metadata": {},
   "outputs": [
    {
     "name": "stdout",
     "output_type": "stream",
     "text": [
      "Epoch 1/50\n",
      "29/29 [==============================] - 130s 4s/step - loss: 0.7162 - accuracy: 0.6733 - val_loss: 0.4755 - val_accuracy: 0.8433\n",
      "Epoch 2/50\n",
      "29/29 [==============================] - 126s 4s/step - loss: 0.4017 - accuracy: 0.8611 - val_loss: 0.4077 - val_accuracy: 0.8567\n",
      "Epoch 3/50\n",
      "29/29 [==============================] - 147s 5s/step - loss: 0.3106 - accuracy: 0.8922 - val_loss: 0.3114 - val_accuracy: 0.8667\n",
      "Epoch 4/50\n",
      "29/29 [==============================] - 124s 4s/step - loss: 0.2620 - accuracy: 0.9156 - val_loss: 0.2985 - val_accuracy: 0.9000\n",
      "Epoch 5/50\n",
      "29/29 [==============================] - 126s 4s/step - loss: 0.2351 - accuracy: 0.9267 - val_loss: 0.2565 - val_accuracy: 0.9067\n",
      "Epoch 6/50\n",
      "29/29 [==============================] - 134s 5s/step - loss: 0.2049 - accuracy: 0.9367 - val_loss: 0.3055 - val_accuracy: 0.8900\n",
      "Epoch 7/50\n",
      "29/29 [==============================] - 123s 4s/step - loss: 0.1978 - accuracy: 0.9389 - val_loss: 0.2217 - val_accuracy: 0.9200\n",
      "Epoch 8/50\n",
      "29/29 [==============================] - 117s 4s/step - loss: 0.1779 - accuracy: 0.9400 - val_loss: 0.1886 - val_accuracy: 0.9433\n",
      "Epoch 9/50\n",
      "29/29 [==============================] - 118s 4s/step - loss: 0.1679 - accuracy: 0.9444 - val_loss: 0.1975 - val_accuracy: 0.9233\n",
      "Epoch 10/50\n",
      "29/29 [==============================] - 117s 4s/step - loss: 0.1602 - accuracy: 0.9456 - val_loss: 0.2199 - val_accuracy: 0.9100\n",
      "Epoch 11/50\n",
      "29/29 [==============================] - 119s 4s/step - loss: 0.1728 - accuracy: 0.9367 - val_loss: 0.1799 - val_accuracy: 0.9433\n",
      "Epoch 12/50\n",
      "29/29 [==============================] - 122s 4s/step - loss: 0.1451 - accuracy: 0.9567 - val_loss: 0.2008 - val_accuracy: 0.9333\n",
      "Epoch 13/50\n",
      "29/29 [==============================] - 122s 4s/step - loss: 0.1304 - accuracy: 0.9589 - val_loss: 0.1669 - val_accuracy: 0.9367\n",
      "Epoch 14/50\n",
      "29/29 [==============================] - 129s 4s/step - loss: 0.1277 - accuracy: 0.9567 - val_loss: 0.1822 - val_accuracy: 0.9367\n",
      "Epoch 15/50\n",
      "29/29 [==============================] - 128s 4s/step - loss: 0.1375 - accuracy: 0.9478 - val_loss: 0.1643 - val_accuracy: 0.9433\n",
      "Epoch 16/50\n",
      "29/29 [==============================] - 134s 5s/step - loss: 0.1233 - accuracy: 0.9589 - val_loss: 0.1815 - val_accuracy: 0.9367\n",
      "Epoch 17/50\n",
      "29/29 [==============================] - 143s 5s/step - loss: 0.1021 - accuracy: 0.9744 - val_loss: 0.2196 - val_accuracy: 0.9233\n",
      "Epoch 18/50\n",
      "29/29 [==============================] - 140s 5s/step - loss: 0.1229 - accuracy: 0.9644 - val_loss: 0.1709 - val_accuracy: 0.9400\n",
      "10/10 [==============================] - 39s 4s/step - loss: 0.1913 - accuracy: 0.9267\n",
      "Test Loss: 0.19134844839572906, Test Accuracy: 0.9266666769981384\n"
     ]
    }
   ],
   "source": [
    "# Compile the model\n",
    "model.compile(\n",
    "    optimizer=tf.keras.optimizers.legacy.Adam(learning_rate=0.0001), # Optimizer\n",
    "    loss=tf.keras.losses.CategoricalCrossentropy(from_logits=False), # Loss function\n",
    "    metrics=['accuracy']\n",
    ")\n",
    "\n",
    "# Early stopping callback to prevent overfitting\n",
    "early_stopping = tf.keras.callbacks.EarlyStopping(\n",
    "    monitor='val_loss',\n",
    "    patience=3,\n",
    "    restore_best_weights=True\n",
    ")\n",
    "\n",
    "# Train the model\n",
    "history = model.fit(\n",
    "    train_ds,\n",
    "    validation_data=val_ds,\n",
    "    epochs=50,\n",
    "    callbacks=[early_stopping]\n",
    ")\n",
    "\n",
    "# Evaluate the model on the test set\n",
    "evaluation_results = model.evaluate(test_ds)\n",
    "print(f\"Test Loss: {evaluation_results[0]}, Test Accuracy: {evaluation_results[1]}\")\n",
    "\n",
    "# Save the model\n",
    "model.save('inceptionv3.keras')"
   ]
  },
  {
   "cell_type": "code",
   "execution_count": 4,
   "metadata": {},
   "outputs": [],
   "source": [
    "model = tf.keras.models.load_model(\"inceptionv3.keras\")"
   ]
  },
  {
   "cell_type": "code",
   "execution_count": 7,
   "metadata": {},
   "outputs": [
    {
     "name": "stdout",
     "output_type": "stream",
     "text": [
      "1/1 [==============================] - 0s 169ms/step\n",
      "Potato___Early_blight\n",
      "Potato___Late_blight\n",
      "Potato___healthy\n"
     ]
    }
   ],
   "source": [
    "import tensorflow as tf\n",
    "import numpy as np\n",
    "\n",
    "# Utility function for preprocessing an image\n",
    "def get_img_array(image_path, target_size=image_size):\n",
    "    # Load and preprocess the image\n",
    "    img = tf.keras.preprocessing.image.load_img(image_path, target_size=target_size)\n",
    "    img = tf.keras.preprocessing.image.img_to_array(img)\n",
    "    img /= 255. # Normalize pixel values\n",
    "    return img\n",
    "\n",
    "# Make predictions on sample images\n",
    "predictions = model.predict(np.array([\n",
    "    get_img_array(\"../PotatoImagesData/Train/Potato___Early_blight/bb07a1b7-b9ad-4016-a013-9ff0e4636d4a___RS_Early.B 7156.JPG\"),\n",
    "    get_img_array(\"../PotatoImagesData/Train/Potato___Late_blight/fd35fb86-6558-40f2-b8ac-6922e2107af5___RS_LB 4095.JPG\"),\n",
    "    get_img_array(\"../PotatoImagesData/Train/Potato___healthy/Potato_healthy-103-_0_3577.jpg\"),\n",
    "]))\n",
    "\n",
    "# Print predicted classes for each image\n",
    "for i in predictions:\n",
    "    print(classes[np.argmax(i)]) # Print the class with the highest predicted probability"
   ]
  }
 ],
 "metadata": {
  "kernelspec": {
   "display_name": "mojo-CiaEp4gG",
   "language": "python",
   "name": "python3"
  },
  "language_info": {
   "codemirror_mode": {
    "name": "ipython",
    "version": 3
   },
   "file_extension": ".py",
   "mimetype": "text/x-python",
   "name": "python",
   "nbconvert_exporter": "python",
   "pygments_lexer": "ipython3",
   "version": "3.11.4"
  }
 },
 "nbformat": 4,
 "nbformat_minor": 2
}
