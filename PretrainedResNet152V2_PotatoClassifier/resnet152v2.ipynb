{
 "cells": [
  {
   "cell_type": "code",
   "execution_count": 3,
   "metadata": {},
   "outputs": [
    {
     "name": "stdout",
     "output_type": "stream",
     "text": [
      "Found 900 images belonging to 3 classes.\n",
      "Found 300 images belonging to 3 classes.\n",
      "Found 300 images belonging to 3 classes.\n"
     ]
    },
    {
     "data": {
      "text/plain": [
       "{'Potato___Early_blight': 0, 'Potato___Late_blight': 1, 'Potato___healthy': 2}"
      ]
     },
     "execution_count": 3,
     "metadata": {},
     "output_type": "execute_result"
    }
   ],
   "source": [
    "import tensorflow as tf\n",
    "from tensorflow.keras.applications import ResNet152V2\n",
    "from tensorflow.keras.applications.resnet50 import preprocess_input\n",
    "from tensorflow.keras.preprocessing.image import ImageDataGenerator\n",
    "from tensorflow.keras.layers import Dense, GlobalAveragePooling2D, Flatten, Dropout\n",
    "from tensorflow.keras.models import Model\n",
    "from tensorflow.keras.optimizers import Adam\n",
    "\n",
    "# Define batch size, image size, and input shape for the model\n",
    "batch_size = 32\n",
    "image_size = (224, 224)\n",
    "input_shape = image_size + (3,) # 3 channels for RGB\n",
    "keras = tf.keras \n",
    "\n",
    "# Create an ImageDataGenerator for data augmentation\n",
    "img_data_gen = ImageDataGenerator(\n",
    "    preprocessing_function=preprocess_input,  # Preprocess input as per ResNet50\n",
    "    rotation_range=20,  # Rotate images by up to 20 degrees\n",
    "    horizontal_flip=True  # Flip images horizontally\n",
    ")\n",
    "\n",
    "# Load and prepare training dataset\n",
    "train_ds = img_data_gen.flow_from_directory(\n",
    "    '../PotatoImagesData/Train',  # Training data directory\n",
    "    target_size=image_size,\n",
    "    batch_size=batch_size,\n",
    "    class_mode='categorical',  # Classes are encoded as a binary matrix\n",
    "    shuffle=True,  # Shuffle the data\n",
    "    seed=123  # Seed for reproducibility\n",
    ")\n",
    "\n",
    "# Extract class names from the training dataset\n",
    "classes = list(train_ds.class_indices.keys())\n",
    "\n",
    "# Load and prepare validation and test datasets in a similar way\n",
    "val_ds = img_data_gen.flow_from_directory(\n",
    "    '../PotatoImagesData/Valid',\n",
    "    target_size=image_size,\n",
    "    batch_size=batch_size,\n",
    "    class_mode='categorical',\n",
    "    shuffle=True,\n",
    "    seed=123\n",
    ")\n",
    "\n",
    "test_ds = img_data_gen.flow_from_directory(\n",
    "    '../PotatoImagesData/Test',\n",
    "    target_size=image_size,\n",
    "    batch_size=batch_size,\n",
    "    class_mode='categorical',\n",
    "    shuffle=True,\n",
    "    seed=123\n",
    ")\n",
    "train_ds.class_indices"
   ]
  },
  {
   "cell_type": "code",
   "execution_count": 2,
   "metadata": {},
   "outputs": [],
   "source": [
    "# Initialize ResNet152V2 as the base model with pre-trained ImageNet weights\n",
    "base_model = ResNet152V2(\n",
    "    weights=\"imagenet\",\n",
    "    include_top=False,  # Exclude the top layer to allow for custom layers\n",
    "    input_shape=input_shape\n",
    ")\n",
    "\n",
    "# Freeze the layers of the base model to prevent them from being updated during training\n",
    "base_model.trainable = False"
   ]
  },
  {
   "cell_type": "code",
   "execution_count": 3,
   "metadata": {},
   "outputs": [],
   "source": [
    "# Add custom layers on top of the base model\n",
    "x = base_model.output\n",
    "x = GlobalAveragePooling2D()(x)  # Global Average Pooling\n",
    "x = Dense(1024, activation='relu')(x)  # Dense layer with 1024 neurons\n",
    "predictions = Dense(train_ds.num_classes, activation='softmax')(x)  # Output layer with softmax activation"
   ]
  },
  {
   "cell_type": "code",
   "execution_count": 6,
   "metadata": {},
   "outputs": [
    {
     "name": "stdout",
     "output_type": "stream",
     "text": [
      "Epoch 1/50\n",
      "29/29 [==============================] - 227s 8s/step - loss: 32.1755 - accuracy: 0.6322 - val_loss: 10.6421 - val_accuracy: 0.7667\n",
      "Epoch 2/50\n",
      "29/29 [==============================] - 221s 8s/step - loss: 11.0933 - accuracy: 0.7544 - val_loss: 8.2384 - val_accuracy: 0.7567\n",
      "Epoch 3/50\n",
      "29/29 [==============================] - 222s 8s/step - loss: 7.4958 - accuracy: 0.7722 - val_loss: 13.0858 - val_accuracy: 0.7067\n",
      "Epoch 4/50\n",
      "29/29 [==============================] - 222s 8s/step - loss: 6.2569 - accuracy: 0.8022 - val_loss: 13.7150 - val_accuracy: 0.6433\n",
      "Epoch 5/50\n",
      "29/29 [==============================] - 222s 8s/step - loss: 14.1076 - accuracy: 0.7078 - val_loss: 13.3773 - val_accuracy: 0.7200\n",
      "Epoch 6/50\n",
      "29/29 [==============================] - 224s 8s/step - loss: 9.1789 - accuracy: 0.7867 - val_loss: 6.2048 - val_accuracy: 0.8133\n",
      "Epoch 7/50\n",
      "29/29 [==============================] - 226s 8s/step - loss: 7.3363 - accuracy: 0.8089 - val_loss: 7.9952 - val_accuracy: 0.7567\n",
      "Epoch 8/50\n",
      "29/29 [==============================] - 226s 8s/step - loss: 5.8750 - accuracy: 0.7956 - val_loss: 7.8004 - val_accuracy: 0.7633\n",
      "Epoch 9/50\n",
      "29/29 [==============================] - 226s 8s/step - loss: 6.3467 - accuracy: 0.7867 - val_loss: 7.3639 - val_accuracy: 0.7300\n",
      "Epoch 10/50\n",
      "29/29 [==============================] - 228s 8s/step - loss: 8.8648 - accuracy: 0.7489 - val_loss: 8.9029 - val_accuracy: 0.7400\n",
      "Epoch 11/50\n",
      "29/29 [==============================] - 231s 8s/step - loss: 5.2667 - accuracy: 0.8156 - val_loss: 7.5228 - val_accuracy: 0.7800\n",
      "10/10 [==============================] - 57s 6s/step - loss: 5.2158 - accuracy: 0.8233\n",
      "Test Loss: 5.215848445892334, Test Accuracy: 0.8233333230018616\n"
     ]
    }
   ],
   "source": [
    "# Create the final model\n",
    "model = Model(inputs=base_model.input, outputs=predictions)\n",
    "\n",
    "# Compile the model with an optimizer, loss function, and metrics\n",
    "model.compile(\n",
    "    optimizer=tf.keras.optimizers.legacy.Adam(learning_rate=0.0001),\n",
    "    loss=tf.keras.losses.CategoricalCrossentropy(from_logits=False),\n",
    "    metrics=['accuracy']\n",
    ")\n",
    "\n",
    "# Set up early stopping to monitor validation loss and stop training if it doesn't improve\n",
    "early_stopping = tf.keras.callbacks.EarlyStopping(\n",
    "    monitor='val_loss',\n",
    "    patience=5,\n",
    "    restore_best_weights=True\n",
    ")\n",
    "\n",
    "# Train the model using the training and validation datasets\n",
    "history = model.fit(\n",
    "    train_ds,\n",
    "    validation_data=val_ds,\n",
    "    epochs=50,\n",
    "    callbacks=[early_stopping]\n",
    ")\n",
    "\n",
    "# Evaluate the model on the test dataset\n",
    "evaluation_results = model.evaluate(test_ds)\n",
    "print(f\"Test Loss: {evaluation_results[0]}, Test Accuracy: {evaluation_results[1]}\")\n",
    "\n",
    "# Save the trained model\n",
    "model.save('resnet152v2.keras')"
   ]
  },
  {
   "cell_type": "code",
   "execution_count": 4,
   "metadata": {},
   "outputs": [],
   "source": [
    "model = tf.keras.models.load_model(\"resnet152v2.keras\")"
   ]
  },
  {
   "cell_type": "code",
   "execution_count": 8,
   "metadata": {},
   "outputs": [
    {
     "name": "stdout",
     "output_type": "stream",
     "text": [
      "1/1 [==============================] - 0s 355ms/step\n",
      "Potato___Early_blight\n",
      "Potato___healthy\n",
      "Potato___healthy\n"
     ]
    }
   ],
   "source": [
    "import tensorflow as tf\n",
    "import numpy as np\n",
    "\n",
    "# Function to load and preprocess an image\n",
    "def get_img_array(image_path, target_size=image_size):\n",
    "    # Load the image\n",
    "    img = tf.keras.preprocessing.image.load_img(image_path, target_size=target_size)\n",
    "    img = tf.keras.preprocessing.image.img_to_array(img)\n",
    "\n",
    "    # Preprocess the image as per ResNet50\n",
    "    img = preprocess_input(img)\n",
    "\n",
    "    return img\n",
    "\n",
    "# Make predictions on new images\n",
    "predictions = model.predict(np.array([\n",
    "    get_img_array(\"../PotatoImagesData/Train/Potato___Early_blight/bb07a1b7-b9ad-4016-a013-9ff0e4636d4a___RS_Early.B 7156.JPG\"),\n",
    "    get_img_array(\"../PotatoImagesData/Train/Potato___Late_blight/fd35fb86-6558-40f2-b8ac-6922e2107af5___RS_LB 4095.JPG\"),\n",
    "    get_img_array(\"../PotatoImagesData/Train/Potato___healthy/Potato_healthy-103-_0_3577.jpg\"),\n",
    "]))\n",
    "\n",
    "# Print out the predicted classes for each image\n",
    "for i in predictions:\n",
    "    print(classes[np.argmax(i)])"
   ]
  }
 ],
 "metadata": {
  "kernelspec": {
   "display_name": "mojo-CiaEp4gG",
   "language": "python",
   "name": "python3"
  },
  "language_info": {
   "codemirror_mode": {
    "name": "ipython",
    "version": 3
   },
   "file_extension": ".py",
   "mimetype": "text/x-python",
   "name": "python",
   "nbconvert_exporter": "python",
   "pygments_lexer": "ipython3",
   "version": "3.11.4"
  }
 },
 "nbformat": 4,
 "nbformat_minor": 2
}
